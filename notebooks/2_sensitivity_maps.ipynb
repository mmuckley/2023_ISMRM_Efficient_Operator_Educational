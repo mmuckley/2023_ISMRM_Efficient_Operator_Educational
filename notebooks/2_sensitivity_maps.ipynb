{
 "cells": [
  {
   "cell_type": "code",
   "execution_count": 1,
   "metadata": {},
   "outputs": [
    {
     "name": "stdout",
     "output_type": "stream",
     "text": [
      "dict_keys(['__header__', '__version__', '__globals__', 'b1', 'kdata', 'k', 'w'])\n"
     ]
    }
   ],
   "source": [
    "import yaml\n",
    "import scipy.io as sio\n",
    "import numpy as  np\n",
    "from skimage.data import shepp_logan_phantom"
   ]
  },
  {
   "cell_type": "code",
   "execution_count": 2,
   "metadata": {},
   "outputs": [
    {
     "name": "stdout",
     "output_type": "stream",
     "text": [
      "dict_keys(['__header__', '__version__', '__globals__', 'b1', 'kdata', 'k', 'w'])\n"
     ]
    }
   ],
   "source": [
    "# load the data\n",
    "with open(\"../data_loc.yaml\", \"r\") as f:\n",
    "    data_file = yaml.safe_load(f)\n",
    "\n",
    "raw_data = sio.loadmat(data_file)\n",
    "\n",
    "print(raw_data.keys())\n",
    "\n",
    "# create a simple \"fake\" image to play round with\n",
    "xtrue = shepp_logan_phantom()\n",
    "xtrue = xtrue[8:-8, 8:-8]\n",
    "sensitivity_maps = np.transpose(raw_data[\"b1\"], (2, 0, 1))"
   ]
  },
  {
   "cell_type": "code",
   "execution_count": 3,
   "metadata": {},
   "outputs": [
    {
     "name": "stdout",
     "output_type": "stream",
     "text": [
      "image shape: (384, 384), sense maps shape: (12, 384, 384)\n",
      "output shape: (12, 384, 384)\n"
     ]
    }
   ],
   "source": [
    "print(f\"image shape: {xtrue.shape}, sense maps shape: {sensitivity_maps.shape}\")\n",
    "\n",
    "# simplest SENSE implementation\n",
    "output = []\n",
    "for sensitivity_map in sensitivity_maps:\n",
    "    output.append(xtrue * sensitivity_map)\n",
    "\n",
    "output = np.stack(output)\n",
    "print(f\"output shape: {output.shape}\")"
   ]
  },
  {
   "cell_type": "code",
   "execution_count": 4,
   "metadata": {},
   "outputs": [],
   "source": [
    "# broadcasting demonstration\n",
    "# these three operations are equivalent!"
   ]
  },
  {
   "cell_type": "code",
   "execution_count": 5,
   "metadata": {},
   "outputs": [
    {
     "name": "stdout",
     "output_type": "stream",
     "text": [
      "A shape: (12, 384, 384), B shape: (384, 384), output shape: (12, 384, 384)\n"
     ]
    }
   ],
   "source": [
    "# operation 1, slowest\n",
    "output = []\n",
    "for sensitivity_map in sensitivity_maps:\n",
    "    output.append(xtrue * sensitivity_map)\n",
    "\n",
    "output1 = np.stack(output)\n",
    "print(\n",
    "    f\"A shape: {sensitivity_maps.shape}, B shape: {xtrue.shape}, \"\n",
    "    f\"output shape: {output1.shape}\"\n",
    ")"
   ]
  },
  {
   "cell_type": "code",
   "execution_count": 6,
   "metadata": {},
   "outputs": [
    {
     "name": "stdout",
     "output_type": "stream",
     "text": [
      "A shape: (12, 384, 384), B shape: (12, 384, 384), output shape: (12, 384, 384)\n"
     ]
    }
   ],
   "source": [
    "# operation 2, better\n",
    "xtrue_expand = xtrue[None, ...]\n",
    "xtrue_copy = np.repeat(xtrue_expand, 12, axis=0)\n",
    "output2 = sensitivity_maps * xtrue_copy\n",
    "print(\n",
    "    f\"A shape: {sensitivity_maps.shape}, B shape: {xtrue_copy.shape}, \"\n",
    "    f\"output shape: {output2.shape}\"\n",
    ")"
   ]
  },
  {
   "cell_type": "code",
   "execution_count": 7,
   "metadata": {},
   "outputs": [
    {
     "name": "stdout",
     "output_type": "stream",
     "text": [
      "A shape: (12, 384, 384), B shape: (1, 384, 384), output shape: (12, 384, 384)\n"
     ]
    }
   ],
   "source": [
    "# operation 3, fasteset\n",
    "output3 = sensitivity_maps * xtrue_expand\n",
    "print(\n",
    "    f\"A shape: {sensitivity_maps.shape}, B shape: {xtrue_expand.shape}, \"\n",
    "    f\"output shape: {output3.shape}\"\n",
    ")"
   ]
  },
  {
   "cell_type": "code",
   "execution_count": 8,
   "metadata": {},
   "outputs": [
    {
     "name": "stdout",
     "output_type": "stream",
     "text": [
      "True\n",
      "True\n"
     ]
    }
   ],
   "source": [
    "# test they're equal!\n",
    "print((output1 == output2).all())\n",
    "print((output1 == output3).all())"
   ]
  },
  {
   "cell_type": "code",
   "execution_count": 9,
   "metadata": {},
   "outputs": [
    {
     "name": "stdout",
     "output_type": "stream",
     "text": [
      "op1 speed: 0.006369061792007415 seconds\n",
      "op2 speed: 0.00525306937500136 seconds\n",
      "op3 speed: 0.004670845333006582 seconds\n"
     ]
    }
   ],
   "source": [
    "# speed demo\n",
    "import time\n",
    "\n",
    "def op1(sensitivity_maps, xtrue):\n",
    "    output = []\n",
    "    for sensitivity_map in sensitivity_maps:\n",
    "        output.append(xtrue * sensitivity_map)\n",
    "\n",
    "    return np.stack(output)\n",
    "\n",
    "def op2(sensitivity_maps, xtrue):\n",
    "    xtrue_expand = xtrue[None, ...]\n",
    "    xtrue_copy = np.repeat(xtrue_expand, 12, axis=0)\n",
    "    return sensitivity_maps * xtrue_copy\n",
    "\n",
    "def op3(sensitivity_maps, xtrue):\n",
    "    xtrue_expand = xtrue[None, ...]\n",
    "    return sensitivity_maps * xtrue_expand\n",
    "\n",
    "num_tests = 1000\n",
    "op_speeds = {}\n",
    "for ind, op in zip(range(1, 4), [op1, op2, op3]):\n",
    "    start_time = time.perf_counter()\n",
    "    for _ in range(num_tests):\n",
    "        output = op(sensitivity_maps, xtrue)\n",
    "    end_time = time.perf_counter()\n",
    "\n",
    "    op_speed = (end_time - start_time) / num_tests\n",
    "    print(f\"op{ind} speed: {op_speed} seconds\")"
   ]
  },
  {
   "cell_type": "code",
   "execution_count": 13,
   "metadata": {},
   "outputs": [
    {
     "name": "stdout",
     "output_type": "stream",
     "text": [
      "True\n"
     ]
    }
   ],
   "source": [
    "# build the adjoint operation\n",
    "def op_adjoint(sensitivity_maps, fy):\n",
    "    return np.sum(np.conj(sensitivity_maps) * fy, axis=0)\n",
    "\n",
    "output = op_adjoint(sensitivity_maps, output)\n",
    "\n",
    "# test the adjoint operation\n",
    "im_shape = (1, xtrue.shape[-2], xtrue.shape[-1])\n",
    "coil_im_shape = (sensitivity_maps.shape[0], xtrue.shape[-2], xtrue.shape[-1])\n",
    "vec1 = np.random.normal(size=im_shape) + 1j*np.random.normal(size=im_shape)\n",
    "vec2 = np.random.normal(size=coil_im_shape) + 1j*np.random.normal(size=coil_im_shape)\n",
    "\n",
    "def complex_tensor_inprod(a, b):\n",
    "    return np.sum(np.conj(a) * b)\n",
    "\n",
    "inprod1 = complex_tensor_inprod(op3(sensitivity_maps, vec1), vec2)\n",
    "inprod2 = complex_tensor_inprod(vec1, op_adjoint(sensitivity_maps, vec2))\n",
    "\n",
    "print(np.allclose(inprod1, inprod2))"
   ]
  },
  {
   "cell_type": "code",
   "execution_count": null,
   "metadata": {},
   "outputs": [],
   "source": []
  }
 ],
 "metadata": {
  "kernelspec": {
   "display_name": "effop",
   "language": "python",
   "name": "python3"
  },
  "language_info": {
   "codemirror_mode": {
    "name": "ipython",
    "version": 3
   },
   "file_extension": ".py",
   "mimetype": "text/x-python",
   "name": "python",
   "nbconvert_exporter": "python",
   "pygments_lexer": "ipython3",
   "version": "3.10.11"
  },
  "orig_nbformat": 4
 },
 "nbformat": 4,
 "nbformat_minor": 2
}
