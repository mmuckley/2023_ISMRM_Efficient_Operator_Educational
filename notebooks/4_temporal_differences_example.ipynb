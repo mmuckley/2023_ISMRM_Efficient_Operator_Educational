{
 "cells": [
  {
   "cell_type": "code",
   "execution_count": 1,
   "metadata": {},
   "outputs": [],
   "source": [
    "import torch\n",
    "import numpy as np\n",
    "import torch.nn.functional as F"
   ]
  },
  {
   "cell_type": "code",
   "execution_count": 2,
   "metadata": {},
   "outputs": [],
   "source": [
    "temporal_matrix = torch.randn(28, 12, 256, 256)\n",
    "\n",
    "def finite_forward(mat):\n",
    "    return mat[1:] - mat[:-1]\n",
    "\n",
    "def finite_adjoint(mat):\n",
    "    return torch.cat(\n",
    "        (\n",
    "            mat[0].unsqueeze(0) * -1,\n",
    "            mat[:-1] - mat[1:],\n",
    "            mat[-1].unsqueeze(0)\n",
    "        )\n",
    "    )"
   ]
  },
  {
   "cell_type": "code",
   "execution_count": 3,
   "metadata": {},
   "outputs": [
    {
     "name": "stdout",
     "output_type": "stream",
     "text": [
      "tensor(11009.0527+5822.7988j)\n",
      "tensor(11009.0518+5822.7974j)\n",
      "True\n"
     ]
    }
   ],
   "source": [
    "im_shape = (28, 12, 256, 256)\n",
    "out_shape = (27, 12, 256, 256)\n",
    "\n",
    "vec1 = torch.randn(im_shape) + 1j*torch.randn(im_shape)\n",
    "vec2 = torch.randn(out_shape) + 1j*torch.randn(out_shape)\n",
    "\n",
    "def complex_tensor_inprod(a, b):\n",
    "    return torch.sum(torch.conj(a) * b)\n",
    "\n",
    "inprod1 = complex_tensor_inprod(finite_forward(vec1), vec2)\n",
    "inprod2 = complex_tensor_inprod(vec1, finite_adjoint(vec2))\n",
    "\n",
    "print(inprod1)\n",
    "print(inprod2)\n",
    "print(torch.allclose(inprod1, inprod2))"
   ]
  },
  {
   "cell_type": "code",
   "execution_count": null,
   "metadata": {},
   "outputs": [],
   "source": []
  }
 ],
 "metadata": {
  "kernelspec": {
   "display_name": "effop",
   "language": "python",
   "name": "python3"
  },
  "language_info": {
   "codemirror_mode": {
    "name": "ipython",
    "version": 3
   },
   "file_extension": ".py",
   "mimetype": "text/x-python",
   "name": "python",
   "nbconvert_exporter": "python",
   "pygments_lexer": "ipython3",
   "version": "3.10.11"
  },
  "orig_nbformat": 4
 },
 "nbformat": 4,
 "nbformat_minor": 2
}
